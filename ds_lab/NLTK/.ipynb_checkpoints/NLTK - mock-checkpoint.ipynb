{
 "cells": [
  {
   "cell_type": "markdown",
   "id": "a752c901",
   "metadata": {},
   "source": [
    "Stemming:\n",
    "Stemming is the process of reducing words to their word stem, base, or root form. \n",
    "It involves removing suffixes or prefixes from words to derive their base form. Stemming algorithms are typically rule-based and can be fast and efficient. However, they may not always produce a valid root word. For example, the word \"running\" \n",
    "might be stemmed to \"run\", but \"flies\" might also be stemmed to \"fli\".\n",
    "\n",
    "Lemmatization:\n",
    "Lemmatization, on the other hand, aims to reduce words to their canonical form or lemma.\n",
    "Unlike stemming, lemmatization considers the context of the word and its part of speech (POS). It involves looking up words in a lexicon (such as WordNet) and applying morphological analysis to determine the lemma. Lemmatization ensures that the resulting word is a valid word in the language.\n",
    "For example, \"ran\" would be lemmatized to \"run\", and \"better\" would be lemmatized to \"good\"."
   ]
  },
  {
   "cell_type": "code",
   "execution_count": 21,
   "id": "b4dcd487",
   "metadata": {},
   "outputs": [
    {
     "name": "stdout",
     "output_type": "stream",
     "text": [
      "Defaulting to user installation because normal site-packages is not writeable\n",
      "Requirement already satisfied: nltk in c:\\programdata\\anaconda3\\lib\\site-packages (3.7)\n",
      "Requirement already satisfied: click in c:\\programdata\\anaconda3\\lib\\site-packages (from nltk) (8.0.4)\n",
      "Requirement already satisfied: joblib in c:\\programdata\\anaconda3\\lib\\site-packages (from nltk) (1.2.0)\n",
      "Requirement already satisfied: regex>=2021.8.3 in c:\\programdata\\anaconda3\\lib\\site-packages (from nltk) (2022.7.9)\n",
      "Requirement already satisfied: tqdm in c:\\programdata\\anaconda3\\lib\\site-packages (from nltk) (4.65.0)\n",
      "Requirement already satisfied: colorama in c:\\programdata\\anaconda3\\lib\\site-packages (from click->nltk) (0.4.6)\n"
     ]
    }
   ],
   "source": [
    "!pip install nltk\n",
    "import nltk\n",
    "import numpy as np\n",
    "import pandas as pd"
   ]
  },
  {
   "cell_type": "code",
   "execution_count": 29,
   "id": "ffc4e09f",
   "metadata": {},
   "outputs": [
    {
     "name": "stderr",
     "output_type": "stream",
     "text": [
      "[nltk_data] Downloading package stopwords to\n",
      "[nltk_data]     C:\\Users\\USER\\AppData\\Roaming\\nltk_data...\n",
      "[nltk_data]   Package stopwords is already up-to-date!\n",
      "[nltk_data] Downloading package averaged_perceptron_tagger to\n",
      "[nltk_data]     C:\\Users\\USER\\AppData\\Roaming\\nltk_data...\n",
      "[nltk_data]   Package averaged_perceptron_tagger is already up-to-\n",
      "[nltk_data]       date!\n",
      "[nltk_data] Downloading package punkt to\n",
      "[nltk_data]     C:\\Users\\USER\\AppData\\Roaming\\nltk_data...\n",
      "[nltk_data]   Package punkt is already up-to-date!\n",
      "[nltk_data] Downloading package wordnet to\n",
      "[nltk_data]     C:\\Users\\USER\\AppData\\Roaming\\nltk_data...\n",
      "[nltk_data]   Package wordnet is already up-to-date!\n",
      "[nltk_data] Downloading package omw-1.4 to\n",
      "[nltk_data]     C:\\Users\\USER\\AppData\\Roaming\\nltk_data...\n"
     ]
    },
    {
     "data": {
      "text/plain": [
       "True"
      ]
     },
     "execution_count": 29,
     "metadata": {},
     "output_type": "execute_result"
    }
   ],
   "source": [
    "nltk.download('stopwords')\n",
    "nltk.download('averaged_perceptron_tagger')\n",
    "nltk.download('punkt')\n",
    "nltk.download('wordnet')\n",
    "nltk.download('omw-1.4')"
   ]
  },
  {
   "cell_type": "code",
   "execution_count": 30,
   "id": "9afc71fe",
   "metadata": {},
   "outputs": [],
   "source": [
    "from nltk.corpus import stopwords\n",
    "from nltk.tokenize import word_tokenize,sent_tokenize\n",
    "from nltk.stem import PorterStemmer,WordNetLemmatizer\n",
    "from nltk import pos_tag"
   ]
  },
  {
   "cell_type": "code",
   "execution_count": 31,
   "id": "aee039fa",
   "metadata": {},
   "outputs": [],
   "source": [
    "sentence1 = \"Stemming and lemmatization are different techniques used to reduce words to their root form, but they produce varying results. Lemmatization is better than stemming\""
   ]
  },
  {
   "cell_type": "code",
   "execution_count": 32,
   "id": "99535fe9",
   "metadata": {},
   "outputs": [
    {
     "name": "stdout",
     "output_type": "stream",
     "text": [
      "['stemming', 'and', 'lemmatization', 'are', 'different', 'techniques', 'used', 'to', 'reduce', 'words', 'to', 'their', 'root', 'form', 'but', 'they', 'produce', 'varying', 'results', 'lemmatization', 'is', 'better', 'than', 'stemming']\n",
      "24\n"
     ]
    }
   ],
   "source": [
    "import string\n",
    "def Tokenise(sentence: str):\n",
    "    punctuation=string.punctuation+ '[]{}()<>'\n",
    "    for char in punctuation:\n",
    "        sentence=sentence.replace(char,\" \")\n",
    "#         print(sentence)\n",
    "    sentence= sentence.lower()\n",
    "    tokens=sentence.split()\n",
    "    return tokens\n",
    "\n",
    "tokens=Tokenise(sentence1)\n",
    "print(tokens)\n",
    "print(len(tokens))"
   ]
  },
  {
   "cell_type": "code",
   "execution_count": 33,
   "id": "03888933",
   "metadata": {},
   "outputs": [
    {
     "name": "stdout",
     "output_type": "stream",
     "text": [
      "['stemming', 'lemmatization', 'different', 'techniques', 'used', 'reduce', 'words', 'root', 'form', 'produce', 'varying', 'results', 'lemmatization', 'better', 'stemming']\n"
     ]
    }
   ],
   "source": [
    "def RemStopWord(token):\n",
    "    stop_word=set(stopwords.words('english'))\n",
    "    filtered=[word for word in token if word not in stop_word]\n",
    "    return filtered\n",
    "\n",
    "tokens=RemStopWord(tokens)\n",
    "print(tokens)"
   ]
  },
  {
   "cell_type": "code",
   "execution_count": 34,
   "id": "02a6af76",
   "metadata": {},
   "outputs": [
    {
     "data": {
      "text/plain": [
       "[('stemming', 'VBG'),\n",
       " ('lemmatization', 'NN'),\n",
       " ('different', 'JJ'),\n",
       " ('techniques', 'NNS'),\n",
       " ('used', 'VBN'),\n",
       " ('reduce', 'VB'),\n",
       " ('words', 'NNS'),\n",
       " ('root', 'VBP'),\n",
       " ('form', 'NN'),\n",
       " ('produce', 'VBP'),\n",
       " ('varying', 'VBG'),\n",
       " ('results', 'NNS'),\n",
       " ('lemmatization', 'NN'),\n",
       " ('better', 'RBR'),\n",
       " ('stemming', 'NN')]"
      ]
     },
     "execution_count": 34,
     "metadata": {},
     "output_type": "execute_result"
    }
   ],
   "source": [
    "pos_tag_list=pos_tag(tokens)\n",
    "pos_tag_list\n",
    "# VBG: Verb, Gerund/Present Participle\n",
    "# NN: Noun, Singular or Mass\n",
    "# JJ: Adjective\n",
    "# NNS: Noun, Plural\n",
    "# VBN: Verb, Past Participle\n",
    "# VB: Verb, Base Form\n",
    "# VBP: Verb, Non-3rd Person Singular Present\n",
    "# RBR: Adverb, Comparative"
   ]
  },
  {
   "cell_type": "code",
   "execution_count": 35,
   "id": "cd464dde",
   "metadata": {},
   "outputs": [
    {
     "name": "stdout",
     "output_type": "stream",
     "text": [
      "stemming : stem\n",
      "lemmatization : lemmat\n",
      "different : differ\n",
      "techniques : techniqu\n",
      "used : use\n",
      "reduce : reduc\n",
      "words : word\n",
      "root : root\n",
      "form : form\n",
      "produce : produc\n",
      "varying : vari\n",
      "results : result\n",
      "lemmatization : lemmat\n",
      "better : better\n",
      "stemming : stem\n"
     ]
    }
   ],
   "source": [
    "#stemming\n",
    "stemmer=PorterStemmer()\n",
    "for w in tokens:\n",
    "    print(f\"{w} : {stemmer.stem(w)}\")"
   ]
  },
  {
   "cell_type": "code",
   "execution_count": 36,
   "id": "0eb66278",
   "metadata": {},
   "outputs": [
    {
     "name": "stdout",
     "output_type": "stream",
     "text": [
      "stemming : stemming\n",
      "lemmatization : lemmatization\n",
      "different : different\n",
      "techniques : technique\n",
      "used : used\n",
      "reduce : reduce\n",
      "words : word\n",
      "root : root\n",
      "form : form\n",
      "produce : produce\n",
      "varying : varying\n",
      "results : result\n",
      "lemmatization : lemmatization\n",
      "better : better\n",
      "stemming : stemming\n"
     ]
    }
   ],
   "source": [
    "lemmatizer = WordNetLemmatizer()\n",
    "\n",
    "for w in tokens:\n",
    "    print(f\"{w} : {lemmatizer.lemmatize(w)}\")"
   ]
  },
  {
   "cell_type": "code",
   "execution_count": 45,
   "id": "3ceb62bf",
   "metadata": {},
   "outputs": [
    {
     "data": {
      "text/plain": [
       "{'stemming': 0.13333333333333333,\n",
       " 'lemmatization': 0.13333333333333333,\n",
       " 'different': 0.06666666666666667,\n",
       " 'techniques': 0.06666666666666667,\n",
       " 'used': 0.06666666666666667,\n",
       " 'reduce': 0.06666666666666667,\n",
       " 'words': 0.06666666666666667,\n",
       " 'root': 0.06666666666666667,\n",
       " 'form': 0.06666666666666667,\n",
       " 'produce': 0.06666666666666667,\n",
       " 'varying': 0.06666666666666667,\n",
       " 'results': 0.06666666666666667,\n",
       " 'better': 0.06666666666666667}"
      ]
     },
     "execution_count": 45,
     "metadata": {},
     "output_type": "execute_result"
    }
   ],
   "source": [
    "def CalcTF(tokens):\n",
    "    term_freq = {}\n",
    "    for word in tokens:\n",
    "        if word not in term_freq:\n",
    "            term_freq[word]=tokens.count(word)/len(tokens)\n",
    "            \n",
    "    return term_freq\n",
    "\n",
    "CalcTF(tokens)\n",
    "# TREM FREq  = occ/total\n",
    "\n",
    "# IDF(t,D)=\n",
    "# log( Number of documents in corpus ∣D∣/Total number of documents containing term t)"
   ]
  },
  {
   "cell_type": "code",
   "execution_count": 44,
   "id": "6a57b3e9",
   "metadata": {},
   "outputs": [
    {
     "name": "stdout",
     "output_type": "stream",
     "text": [
      "{'words': 1, 'results': 1, 'their': 1, 'are': 1, 'produce': 1, 'to': 1, 'stemming': 2, 'varying': 1, 'techniques': 1, 'reduce': 1, 'is': 1, 'and': 1, 'better': 1, 'used': 1, 'different': 1, 'they': 1, 'but': 1, 'form': 1, 'than': 1, 'root': 1, 'lemmatization': 2}\n",
      "\n",
      "{0: {'stemming': 0.05263157894736842, 'and': 0.05263157894736842, 'lemmatization': 0.05263157894736842, 'are': 0.05263157894736842, 'different': 0.05263157894736842, 'techniques': 0.05263157894736842, 'used': 0.05263157894736842, 'to': 0.10526315789473684, 'reduce': 0.05263157894736842, 'words': 0.05263157894736842, 'their': 0.05263157894736842, 'root': 0.05263157894736842, 'form': 0.05263157894736842, 'but': 0.05263157894736842, 'they': 0.05263157894736842, 'produce': 0.05263157894736842, 'varying': 0.05263157894736842, 'results': 0.05263157894736842}, 1: {'lemmatization': 0.2, 'is': 0.2, 'better': 0.2, 'than': 0.2, 'stemming': 0.2}}\n"
     ]
    }
   ],
   "source": [
    "def calculateTF_IDF(documents):\n",
    "    documents = sent_tokenize(documents)\n",
    "    document_map = {}\n",
    "    document_tf = {}\n",
    "    unique_words = set()\n",
    "    word_idf = {}\n",
    "\n",
    "    for i, document in enumerate(documents):\n",
    "        tokenizedWords  = Tokenise(document)\n",
    "        document_map[i] = tokenizedWords\n",
    "\n",
    "        document_tf[i] = CalcTF(tokenizedWords)\n",
    "\n",
    "        for word in tokenizedWords:\n",
    "            unique_words.add(word)\n",
    "\n",
    "    for word in unique_words:\n",
    "        count = 0\n",
    "        for _, tokenedWords in document_map.items():\n",
    "            if word in tokenedWords:\n",
    "                count += 1\n",
    "\n",
    "        word_idf[word] = count\n",
    "\n",
    "    return word_idf, document_tf\n",
    "\n",
    "\n",
    "word_idf, document_tf = calculateTF_IDF(sentence1)\n",
    "print(word_idf)\n",
    "print()\n",
    "print(document_tf)"
   ]
  },
  {
   "cell_type": "code",
   "execution_count": null,
   "id": "253f058c",
   "metadata": {},
   "outputs": [],
   "source": []
  }
 ],
 "metadata": {
  "kernelspec": {
   "display_name": "Python 3 (ipykernel)",
   "language": "python",
   "name": "python3"
  },
  "language_info": {
   "codemirror_mode": {
    "name": "ipython",
    "version": 3
   },
   "file_extension": ".py",
   "mimetype": "text/x-python",
   "name": "python",
   "nbconvert_exporter": "python",
   "pygments_lexer": "ipython3",
   "version": "3.11.3"
  }
 },
 "nbformat": 4,
 "nbformat_minor": 5
}
