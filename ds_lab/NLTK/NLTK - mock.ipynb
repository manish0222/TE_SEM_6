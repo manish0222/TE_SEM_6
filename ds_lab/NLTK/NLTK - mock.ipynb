{
 "cells": [
  {
   "cell_type": "markdown",
   "id": "a752c901",
   "metadata": {},
   "source": [
    "Stemming:\n",
    "Stemming is the process of reducing words to their word stem, base, or root form. \n",
    "It involves removing suffixes or prefixes from words to derive their base form. Stemming algorithms are typically rule-based and can be fast and efficient. However, they may not always produce a valid root word. For example, the word \"running\" \n",
    "might be stemmed to \"run\", but \"flies\" might also be stemmed to \"fli\".\n",
    "\n",
    "Lemmatization:\n",
    "Lemmatization, on the other hand, aims to reduce words to their canonical form or lemma.\n",
    "Unlike stemming, lemmatization considers the context of the word and its part of speech (POS). It involves looking up words in a lexicon (such as WordNet) and applying morphological analysis to determine the lemma. Lemmatization ensures that the resulting word is a valid word in the language.\n",
    "For example, \"ran\" would be lemmatized to \"run\", and \"better\" would be lemmatized to \"good\"."
   ]
  },
  {
   "cell_type": "code",
   "execution_count": 1,
   "id": "b4dcd487",
   "metadata": {},
   "outputs": [
    {
     "name": "stdout",
     "output_type": "stream",
     "text": [
      "Requirement already satisfied: nltk in c:\\users\\user\\appdata\\local\\programs\\python\\python310\\lib\\site-packages (3.8.1)\n",
      "Requirement already satisfied: click in c:\\users\\user\\appdata\\local\\programs\\python\\python310\\lib\\site-packages (from nltk) (8.1.7)\n",
      "Requirement already satisfied: joblib in c:\\users\\user\\appdata\\local\\programs\\python\\python310\\lib\\site-packages (from nltk) (1.3.1)\n",
      "Requirement already satisfied: regex>=2021.8.3 in c:\\users\\user\\appdata\\local\\programs\\python\\python310\\lib\\site-packages (from nltk) (2023.12.25)\n",
      "Requirement already satisfied: tqdm in c:\\users\\user\\appdata\\local\\programs\\python\\python310\\lib\\site-packages (from nltk) (4.66.2)\n",
      "Requirement already satisfied: colorama in c:\\users\\user\\appdata\\local\\programs\\python\\python310\\lib\\site-packages (from click->nltk) (0.4.6)\n"
     ]
    },
    {
     "name": "stderr",
     "output_type": "stream",
     "text": [
      "\n",
      "[notice] A new release of pip is available: 23.2.1 -> 24.0\n",
      "[notice] To update, run: python.exe -m pip install --upgrade pip\n"
     ]
    },
    {
     "name": "stdout",
     "output_type": "stream",
     "text": [
      "Requirement already satisfied: python-docx in c:\\users\\user\\appdata\\local\\programs\\python\\python310\\lib\\site-packages (1.1.0)\n",
      "Requirement already satisfied: lxml>=3.1.0 in c:\\users\\user\\appdata\\local\\programs\\python\\python310\\lib\\site-packages (from python-docx) (5.2.1)\n",
      "Requirement already satisfied: typing-extensions in c:\\users\\user\\appdata\\local\\programs\\python\\python310\\lib\\site-packages (from python-docx) (4.7.1)\n"
     ]
    },
    {
     "name": "stderr",
     "output_type": "stream",
     "text": [
      "\n",
      "[notice] A new release of pip is available: 23.2.1 -> 24.0\n",
      "[notice] To update, run: python.exe -m pip install --upgrade pip\n"
     ]
    }
   ],
   "source": [
    "!pip install nltk\n",
    "!pip install python-docx\n",
    "import nltk\n",
    "import numpy as np\n",
    "import pandas as pd"
   ]
  },
  {
   "cell_type": "code",
   "execution_count": 30,
   "id": "ffc4e09f",
   "metadata": {},
   "outputs": [
    {
     "name": "stderr",
     "output_type": "stream",
     "text": [
      "[nltk_data] Downloading package stopwords to\n",
      "[nltk_data]     C:\\Users\\USER\\AppData\\Roaming\\nltk_data...\n",
      "[nltk_data]   Package stopwords is already up-to-date!\n",
      "[nltk_data] Downloading package averaged_perceptron_tagger to\n",
      "[nltk_data]     C:\\Users\\USER\\AppData\\Roaming\\nltk_data...\n",
      "[nltk_data]   Package averaged_perceptron_tagger is already up-to-\n",
      "[nltk_data]       date!\n",
      "[nltk_data] Downloading package punkt to\n",
      "[nltk_data]     C:\\Users\\USER\\AppData\\Roaming\\nltk_data...\n",
      "[nltk_data]   Package punkt is already up-to-date!\n",
      "[nltk_data] Downloading package wordnet to\n",
      "[nltk_data]     C:\\Users\\USER\\AppData\\Roaming\\nltk_data...\n",
      "[nltk_data]   Package wordnet is already up-to-date!\n",
      "[nltk_data] Downloading package omw-1.4 to\n",
      "[nltk_data]     C:\\Users\\USER\\AppData\\Roaming\\nltk_data...\n",
      "[nltk_data]   Package omw-1.4 is already up-to-date!\n"
     ]
    },
    {
     "data": {
      "text/plain": [
       "True"
      ]
     },
     "execution_count": 30,
     "metadata": {},
     "output_type": "execute_result"
    }
   ],
   "source": [
    "nltk.download('stopwords')\n",
    "nltk.download('averaged_perceptron_tagger')\n",
    "nltk.download('punkt')\n",
    "nltk.download('wordnet')\n",
    "nltk.download('omw-1.4')"
   ]
  },
  {
   "cell_type": "code",
   "execution_count": 44,
   "id": "9afc71fe",
   "metadata": {},
   "outputs": [],
   "source": [
    "from nltk.corpus import stopwords\n",
    "from nltk.tokenize import word_tokenize,sent_tokenize\n",
    "from nltk.stem import PorterStemmer,WordNetLemmatizer\n",
    "from nltk import pos_tag\n",
    "import docx as Document\n",
    "import docx2txt\n",
    "from sklearn.feature_extraction.text import TfidfVectorizer"
   ]
  },
  {
   "cell_type": "code",
   "execution_count": 46,
   "id": "aee039fa",
   "metadata": {},
   "outputs": [
    {
     "data": {
      "text/plain": [
       "'Stemming and lemmatization are different techniques used ran better to reduce words to their root form, but they produce varying results. Lemmatization is better than stemming\\n'"
      ]
     },
     "execution_count": 46,
     "metadata": {},
     "output_type": "execute_result"
    }
   ],
   "source": [
    "# sentence1 = \"Stemming and lemmatization are different techniques used to reduce words to their root form, but they produce varying results. Lemmatization is better than stemming\"\n",
    "# sentence1 = docx2txt.process('asgn1.docx')\n",
    "\n",
    "sentence1 = open('hello.txt', \"r\").read()\n",
    "sentence1"
   ]
  },
  {
   "cell_type": "code",
   "execution_count": 47,
   "id": "99535fe9",
   "metadata": {},
   "outputs": [
    {
     "name": "stdout",
     "output_type": "stream",
     "text": [
      "['stemming', 'and', 'lemmatization', 'are', 'different', 'techniques', 'used', 'ran', 'better', 'to', 'reduce', 'words', 'to', 'their', 'root', 'form', 'but', 'they', 'produce', 'varying', 'results', 'lemmatization', 'is', 'better', 'than', 'stemming']\n",
      "26\n"
     ]
    }
   ],
   "source": [
    "import string\n",
    "def Tokenise(sentence: str):\n",
    "    punctuation=string.punctuation+ '[]{}()<>'\n",
    "    for char in punctuation:\n",
    "        sentence=sentence.replace(char,\" \")\n",
    "#         print(sentence)\n",
    "    sentence= sentence.lower()\n",
    "    tokens=sentence.split()\n",
    "    return tokens\n",
    "\n",
    "tokens=Tokenise(sentence1)\n",
    "print(tokens)\n",
    "print(len(tokens))"
   ]
  },
  {
   "cell_type": "code",
   "execution_count": 48,
   "id": "03888933",
   "metadata": {},
   "outputs": [
    {
     "name": "stdout",
     "output_type": "stream",
     "text": [
      "['stemming', 'lemmatization', 'different', 'techniques', 'used', 'ran', 'better', 'reduce', 'words', 'root', 'form', 'produce', 'varying', 'results', 'lemmatization', 'better', 'stemming']\n"
     ]
    }
   ],
   "source": [
    "def RemStopWord(token):\n",
    "    stop_word=set(stopwords.words('english'))\n",
    "    filtered=[word for word in token if word not in stop_word]\n",
    "    return filtered\n",
    "\n",
    "tokens=RemStopWord(tokens)\n",
    "print(tokens)"
   ]
  },
  {
   "cell_type": "code",
   "execution_count": 49,
   "id": "02a6af76",
   "metadata": {},
   "outputs": [
    {
     "data": {
      "text/plain": [
       "[('stemming', 'VBG'),\n",
       " ('lemmatization', 'NN'),\n",
       " ('different', 'JJ'),\n",
       " ('techniques', 'NNS'),\n",
       " ('used', 'VBN'),\n",
       " ('ran', 'VBD'),\n",
       " ('better', 'RBR'),\n",
       " ('reduce', 'VB'),\n",
       " ('words', 'NNS'),\n",
       " ('root', 'VBP'),\n",
       " ('form', 'NN'),\n",
       " ('produce', 'VBP'),\n",
       " ('varying', 'VBG'),\n",
       " ('results', 'NNS'),\n",
       " ('lemmatization', 'NN'),\n",
       " ('better', 'RBR'),\n",
       " ('stemming', 'NN')]"
      ]
     },
     "execution_count": 49,
     "metadata": {},
     "output_type": "execute_result"
    }
   ],
   "source": [
    "pos_tag_list=pos_tag(tokens)\n",
    "pos_tag_list\n",
    "# VBG: Verb, Gerund/Present Participle\n",
    "# NN: Noun, Singular or Mass\n",
    "# JJ: Adjective\n",
    "# NNS: Noun, Plural\n",
    "# VBN: Verb, Past Participle\n",
    "# VB: Verb, Base Form\n",
    "# VBP: Verb, Non-3rd Person Singular Present\n",
    "# RBR: Adverb, Comparative"
   ]
  },
  {
   "cell_type": "code",
   "execution_count": 50,
   "id": "cd464dde",
   "metadata": {},
   "outputs": [
    {
     "name": "stdout",
     "output_type": "stream",
     "text": [
      "stemming : stem\n",
      "lemmatization : lemmat\n",
      "different : differ\n",
      "techniques : techniqu\n",
      "used : use\n",
      "ran : ran\n",
      "better : better\n",
      "reduce : reduc\n",
      "words : word\n",
      "root : root\n",
      "form : form\n",
      "produce : produc\n",
      "varying : vari\n",
      "results : result\n",
      "lemmatization : lemmat\n",
      "better : better\n",
      "stemming : stem\n"
     ]
    }
   ],
   "source": [
    "#stemming\n",
    "stemmer=PorterStemmer()\n",
    "stemmed=[]\n",
    "for w in tokens:\n",
    "    print(f\"{w} : {stemmer.stem(w)}\")\n",
    "    stemmed.append(stemmer.stem(w))"
   ]
  },
  {
   "cell_type": "code",
   "execution_count": 51,
   "id": "0eb66278",
   "metadata": {},
   "outputs": [
    {
     "name": "stdout",
     "output_type": "stream",
     "text": [
      "stemming : stemming\n",
      "lemmatization : lemmatization\n",
      "different : different\n",
      "techniques : technique\n",
      "used : used\n",
      "ran : ran\n",
      "better : better\n",
      "reduce : reduce\n",
      "words : word\n",
      "root : root\n",
      "form : form\n",
      "produce : produce\n",
      "varying : varying\n",
      "results : result\n",
      "lemmatization : lemmatization\n",
      "better : better\n",
      "stemming : stemming\n"
     ]
    }
   ],
   "source": [
    "lemmatizer = WordNetLemmatizer()\n",
    "\n",
    "for w in tokens:\n",
    "    print(f\"{w} : {lemmatizer.lemmatize(w)}\")"
   ]
  },
  {
   "cell_type": "code",
   "execution_count": 52,
   "id": "3ceb62bf",
   "metadata": {},
   "outputs": [
    {
     "data": {
      "text/plain": [
       "{'stemming': 0.11764705882352941,\n",
       " 'lemmatization': 0.11764705882352941,\n",
       " 'different': 0.058823529411764705,\n",
       " 'techniques': 0.058823529411764705,\n",
       " 'used': 0.058823529411764705,\n",
       " 'ran': 0.058823529411764705,\n",
       " 'better': 0.11764705882352941,\n",
       " 'reduce': 0.058823529411764705,\n",
       " 'words': 0.058823529411764705,\n",
       " 'root': 0.058823529411764705,\n",
       " 'form': 0.058823529411764705,\n",
       " 'produce': 0.058823529411764705,\n",
       " 'varying': 0.058823529411764705,\n",
       " 'results': 0.058823529411764705}"
      ]
     },
     "execution_count": 52,
     "metadata": {},
     "output_type": "execute_result"
    }
   ],
   "source": [
    "def CalcTF(tokens):\n",
    "    term_freq = {}\n",
    "    for word in tokens:\n",
    "        if word not in term_freq:\n",
    "            term_freq[word]=tokens.count(word)/len(tokens)\n",
    "            \n",
    "    return term_freq\n",
    "\n",
    "CalcTF(tokens)\n",
    "# TREM FREq  = occ/total\n",
    "\n",
    "# IDF(t,D)=\n",
    "# log( Number of documents in corpus ∣D∣/Total number of documents containing term t)"
   ]
  },
  {
   "cell_type": "code",
   "execution_count": 53,
   "id": "6a57b3e9",
   "metadata": {},
   "outputs": [
    {
     "name": "stdout",
     "output_type": "stream",
     "text": [
      "TF-IDF representation:\n",
      "  (0, 7)\t0.20851441405707477\n",
      "  (0, 12)\t0.20851441405707477\n",
      "  (0, 4)\t0.20851441405707477\n",
      "  (0, 2)\t0.20851441405707477\n",
      "  (0, 8)\t0.20851441405707477\n",
      "  (0, 13)\t0.20851441405707477\n",
      "  (0, 6)\t0.20851441405707477\n",
      "  (0, 0)\t0.41702882811414954\n",
      "  (0, 5)\t0.20851441405707477\n",
      "  (0, 11)\t0.20851441405707477\n",
      "  (0, 10)\t0.20851441405707477\n",
      "  (0, 1)\t0.20851441405707477\n",
      "  (0, 3)\t0.41702882811414954\n",
      "  (0, 9)\t0.41702882811414954\n",
      "\n",
      "Feature names:\n",
      "['better' 'different' 'form' 'lemmatization' 'produce' 'ran' 'reduce'\n",
      " 'results' 'root' 'stemming' 'techniques' 'used' 'varying' 'words']\n"
     ]
    }
   ],
   "source": [
    "# def calculateTF_IDF(documents):\n",
    "#     documents = sent_tokenize(documents)\n",
    "#     document_map = {}\n",
    "#     document_tf = {}\n",
    "#     unique_words = set()\n",
    "#     word_idf = {}\n",
    "\n",
    "#     for i, document in enumerate(documents):\n",
    "#         tokenizedWords  = Tokenise(document)\n",
    "#         document_map[i] = tokenizedWords\n",
    "\n",
    "#         document_tf[i] = CalcTF(tokenizedWords)\n",
    "\n",
    "#         for word in tokenizedWords:\n",
    "#             unique_words.add(word)\n",
    "\n",
    "#     for word in unique_words:\n",
    "#         count = 0\n",
    "#         for _, tokenedWords in document_map.items():\n",
    "#             if word in tokenedWords:\n",
    "#                 count += 1\n",
    "\n",
    "#         word_idf[word] = count\n",
    "\n",
    "#     return word_idf, document_tf\n",
    "\n",
    "\n",
    "# word_idf, document_tf = calculateTF_IDF(sentence1)\n",
    "# print(word_idf)\n",
    "# print()\n",
    "# print(document_tf)\n",
    "from sklearn.feature_extraction.text import TfidfVectorizer\n",
    "\n",
    "# Example tokens array (list of strings)\n",
    "tokens_array = tokens\n",
    "\n",
    "# Convert the tokens array into a single string (document)\n",
    "document = \" \".join(tokens_array)\n",
    "\n",
    "# Create a TfidfVectorizer object\n",
    "tfidf_vectorizer = TfidfVectorizer()\n",
    "\n",
    "# Fit the vectorizer to the document and transform the document into TF-IDF representation\n",
    "tfidf_representation = tfidf_vectorizer.fit_transform([document])\n",
    "\n",
    "# Get the feature names (terms) from the vectorizer\n",
    "feature_names = tfidf_vectorizer.get_feature_names_out()\n",
    "\n",
    "# Print the TF-IDF representation\n",
    "print(\"TF-IDF representation:\")\n",
    "print(tfidf_representation)\n",
    "\n",
    "# Print the feature names (terms)\n",
    "print(\"\\nFeature names:\")\n",
    "print(feature_names)\n"
   ]
  },
  {
   "cell_type": "code",
   "execution_count": null,
   "id": "253f058c",
   "metadata": {},
   "outputs": [],
   "source": []
  }
 ],
 "metadata": {
  "kernelspec": {
   "display_name": "Python 3 (ipykernel)",
   "language": "python",
   "name": "python3"
  },
  "language_info": {
   "codemirror_mode": {
    "name": "ipython",
    "version": 3
   },
   "file_extension": ".py",
   "mimetype": "text/x-python",
   "name": "python",
   "nbconvert_exporter": "python",
   "pygments_lexer": "ipython3",
   "version": "3.10.6"
  }
 },
 "nbformat": 4,
 "nbformat_minor": 5
}
